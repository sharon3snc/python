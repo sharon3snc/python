{
 "cells": [
  {
   "cell_type": "code",
   "execution_count": 2,
   "metadata": {},
   "outputs": [],
   "source": [
    "class Coche():\n",
    "    num_ruedas = 4\n",
    "    encendido= False\n",
    "\n",
    "    def __init__(self, marca, modelo, color, num_puertas, kilometraje):\n",
    "        self.marca = marca\n",
    "        self.modelo =modelo\n",
    "        self.color = color\n",
    "        self.num_puertas = num_puertas\n",
    "        self.kms = kilometraje\n",
    "    \n",
    "    def arrancar(self):\n",
    "        self.encendido= True\n",
    "        print(\"coche encendido\")\n",
    "    \n",
    "    def apagar(self):\n",
    "        self.encendido= False\n",
    "        print(\"coche apagado\")\n",
    "    \n",
    "    def moverse(self, kms):\n",
    "        if not self.encendido:\n",
    "            print(\"coche apagado, no puede moverse\")\n",
    "            return -1\n",
    "        else:\n",
    "            self.kms += kms\n",
    "            print(f\"el coche se ha movido {kms} kms\")\n",
    "            print(f\"kilometros totales {self.kms}\")\n",
    "            return kms\n"
   ]
  },
  {
   "cell_type": "code",
   "execution_count": 16,
   "metadata": {},
   "outputs": [
    {
     "name": "stdout",
     "output_type": "stream",
     "text": [
      "vehiculo encendido\n",
      "vehiculo apagado, no puede moverse\n"
     ]
    },
    {
     "data": {
      "text/plain": [
       "-1"
      ]
     },
     "execution_count": 16,
     "metadata": {},
     "output_type": "execute_result"
    }
   ],
   "source": [
    "class Vehicule():\n",
    "    encendido= False\n",
    "\n",
    "    def __init__(self, marca, modelo, color, kilometraje=0):\n",
    "        self.marca = marca\n",
    "        self.modelo =modelo\n",
    "        self.color = color\n",
    "        self.kms = kilometraje\n",
    "\n",
    "    def arrancar(self):\n",
    "        self.encendido= True\n",
    "        print(\"vehiculo encendido\")\n",
    "    \n",
    "    def apagar(self):\n",
    "        self.encendido= False\n",
    "        print(\"vehiculo apagado\")\n",
    "    \n",
    "    def moverse(self, kms):\n",
    "        if not self.encendido:\n",
    "            print(\"vehiculo apagado, no puede moverse\")\n",
    "            return -1\n",
    "        else:\n",
    "            self.kms += kms\n",
    "            print(f\"el vehiculo se ha movido {kms} kms\")\n",
    "            print(f\"kilometros totales {self.kms}\")\n",
    "            return kms\n",
    "    \n",
    "class Moto(Vehicule):\n",
    "    num_ruedas= 2\n",
    "    \n",
    "class Coche(Vehicule):\n",
    "    num_ruedas= 4\n",
    "\n",
    "    def __init__ (self, marca, modelo, color, num_puertas=5, kilometraje=0):\n",
    "        super().__init__(marca, modelo, color, kilometraje)\n",
    "        self.num_puertas= num_puertas\n",
    "\n",
    "\n",
    "coche_alvaro = Coche('Opel', 'Corsa', 'azul', 3, 90000)\n",
    "moto_victor= Moto(\"Honda\", \"h1\", \"negro\", 15000)\n",
    "\n",
    "coche_alvaro.arrancar()\n",
    "moto_victor.moverse(300)\n",
    "    "
   ]
  },
  {
   "cell_type": "code",
   "execution_count": 4,
   "metadata": {},
   "outputs": [],
   "source": [
    "coche_alvaro = Coche('Opel', 'Corsa', 'azul', 5, 90000)\n",
    "coche_pablo=('Volkswagen', 'Polo', 'white', 5, 30000)"
   ]
  },
  {
   "cell_type": "code",
   "execution_count": 5,
   "metadata": {},
   "outputs": [
    {
     "name": "stdout",
     "output_type": "stream",
     "text": [
      "<class '__main__.Coche'>\n",
      "False\n"
     ]
    }
   ],
   "source": [
    "print(Coche)\n",
    "print(coche_alvaro.encendido)"
   ]
  },
  {
   "cell_type": "code",
   "execution_count": 59,
   "metadata": {},
   "outputs": [
    {
     "name": "stdout",
     "output_type": "stream",
     "text": [
      "coche encendido\n"
     ]
    }
   ],
   "source": [
    "coche_alvaro.arrancar()"
   ]
  },
  {
   "cell_type": "code",
   "execution_count": 65,
   "metadata": {},
   "outputs": [
    {
     "name": "stdout",
     "output_type": "stream",
     "text": [
      "el coche se ha movido 300 kms\n",
      "kilometros totales 90300\n"
     ]
    },
    {
     "data": {
      "text/plain": [
       "300"
      ]
     },
     "execution_count": 65,
     "metadata": {},
     "output_type": "execute_result"
    }
   ],
   "source": [
    "coche_alvaro.moverse(300)"
   ]
  },
  {
   "cell_type": "code",
   "execution_count": 6,
   "metadata": {},
   "outputs": [],
   "source": [
    "coche_alvaro_dict= {\n",
    "    \"num_ruedas\":4,\n",
    "    \"encendido\": False,\n",
    "    \"kms\": 90000\n",
    "}"
   ]
  },
  {
   "cell_type": "code",
   "execution_count": 12,
   "metadata": {},
   "outputs": [],
   "source": [
    "def arrancar_coche(coche):\n",
    "    coche['encendido'] = True"
   ]
  },
  {
   "cell_type": "code",
   "execution_count": 13,
   "metadata": {},
   "outputs": [],
   "source": [
    "def mover_coche(coche, kms):\n",
    "    if coche ['encendido']:\n",
    "        coche['kms'] += kms"
   ]
  },
  {
   "cell_type": "code",
   "execution_count": 14,
   "metadata": {},
   "outputs": [],
   "source": [
    "arrancar_coche(coche_alvaro_dict)\n",
    "mover_coche(coche_alvaro_dict, 50)"
   ]
  },
  {
   "cell_type": "code",
   "execution_count": 15,
   "metadata": {},
   "outputs": [
    {
     "name": "stdout",
     "output_type": "stream",
     "text": [
      "{'num_ruedas': 4, 'encendido': True, 'kms': 90050}\n"
     ]
    }
   ],
   "source": [
    "print(coche_alvaro_dict)"
   ]
  }
 ],
 "metadata": {
  "kernelspec": {
   "display_name": "Python 3",
   "language": "python",
   "name": "python3"
  },
  "language_info": {
   "codemirror_mode": {
    "name": "ipython",
    "version": 3
   },
   "file_extension": ".py",
   "mimetype": "text/x-python",
   "name": "python",
   "nbconvert_exporter": "python",
   "pygments_lexer": "ipython3",
   "version": "3.11.1"
  },
  "orig_nbformat": 4
 },
 "nbformat": 4,
 "nbformat_minor": 2
}

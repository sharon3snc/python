{
 "cells": [
  {
   "cell_type": "code",
   "execution_count": 56,
   "metadata": {},
   "outputs": [],
   "source": [
    "class Coche():\n",
    "    num_ruedas = 4\n",
    "    encendido= False\n",
    "\n",
    "    def __init__(self, marca, modelo, color, num_puertas, kilometraje):\n",
    "        self.marca = marca\n",
    "        self.modelo =modelo\n",
    "        self.color = color\n",
    "        self.num_puertas = num_puertas\n",
    "        self.kms = kilometraje\n",
    "    \n",
    "    def arrancar(self):\n",
    "        self.encendido= True\n",
    "        print(\"coche encendido\")\n",
    "    \n",
    "    def apagar(self):\n",
    "        self.encendido= False\n",
    "        print(\"coche apagado\")\n",
    "    \n",
    "    def moverse(self, kms):\n",
    "        if not self.encendido:\n",
    "            print(\"coche apagado, no puede moverse\")\n",
    "            return -1\n",
    "        else:\n",
    "            self.kms += kms\n",
    "            print(f\"el coche se ha movido {kms} kms\")\n",
    "            print(f\"kilometros totales {self.kms}\")\n",
    "            return kms\n"
   ]
  },
  {
   "cell_type": "code",
   "execution_count": 73,
   "metadata": {},
   "outputs": [
    {
     "ename": "NameError",
     "evalue": "name 'Vehicule' is not defined",
     "output_type": "error",
     "traceback": [
      "\u001b[1;31m---------------------------------------------------------------------------\u001b[0m",
      "\u001b[1;31mNameError\u001b[0m                                 Traceback (most recent call last)",
      "Cell \u001b[1;32mIn[73], line 1\u001b[0m\n\u001b[1;32m----> 1\u001b[0m \u001b[39mclass\u001b[39;49;00m \u001b[39mVehicule\u001b[39;49;00m():\n\u001b[0;32m      2\u001b[0m     encendido\u001b[39m=\u001b[39;49m \u001b[39mFalse\u001b[39;49;00m\n\u001b[0;32m      4\u001b[0m     \u001b[39mdef\u001b[39;49;00m \u001b[39m__init__\u001b[39;49m(\u001b[39mself\u001b[39;49m, marca, modelo, color, kilometraje):\n",
      "Cell \u001b[1;32mIn[73], line 28\u001b[0m, in \u001b[0;36mVehicule\u001b[1;34m()\u001b[0m\n\u001b[0;32m     25\u001b[0m         \u001b[39mprint\u001b[39m(\u001b[39mf\u001b[39m\u001b[39m\"\u001b[39m\u001b[39mkilometros totales \u001b[39m\u001b[39m{\u001b[39;00m\u001b[39mself\u001b[39m\u001b[39m.\u001b[39mkms\u001b[39m}\u001b[39;00m\u001b[39m\"\u001b[39m)\n\u001b[0;32m     26\u001b[0m         \u001b[39mreturn\u001b[39;00m kms\n\u001b[1;32m---> 28\u001b[0m \u001b[39mclass\u001b[39;00m \u001b[39mMoto\u001b[39;00m(Vehicule):\n\u001b[0;32m     29\u001b[0m     num_ruedas\u001b[39m=\u001b[39m \u001b[39m2\u001b[39m\n\u001b[0;32m     31\u001b[0m \u001b[39mclass\u001b[39;00m \u001b[39mCoche\u001b[39;00m(Vehicule):\n",
      "\u001b[1;31mNameError\u001b[0m: name 'Vehicule' is not defined"
     ]
    }
   ],
   "source": [
    "class Vehicule():\n",
    "    encendido= False\n",
    "\n",
    "    def __init__(self, marca, modelo, color, kilometraje):\n",
    "        self.marca = marca\n",
    "        self.modelo =modelo\n",
    "        self.color = color\n",
    "        self.kms = kilometraje\n",
    "\n",
    "    def arrancar(self):\n",
    "        self.encendido= True\n",
    "        print(\"vehiculo encendido\")\n",
    "    \n",
    "    def apagar(self):\n",
    "        self.encendido= False\n",
    "        print(\"vehiculo apagado\")\n",
    "    \n",
    "    def moverse(self, kms):\n",
    "        if not self.encendido:\n",
    "            print(\"vehiculo apagado, no puede moverse\")\n",
    "            return -1\n",
    "        else:\n",
    "            self.kms += kms\n",
    "            print(f\"el vehiculo se ha movido {kms} kms\")\n",
    "            print(f\"kilometros totales {self.kms}\")\n",
    "            return kms\n",
    "    \n",
    "    class Moto(Vehicule):\n",
    "        num_ruedas= 2\n",
    "    \n",
    "    class Coche(Vehicule):\n",
    "        num_ruedas= 4\n",
    "\n",
    "        def __init__ (self, marca, modelo, color,num_puertas=5, kilometraje=0):\n",
    "            super().__init__(marca, modelo, color, kilometraje)\n",
    "            self.num_puertas= num_puertas\n",
    "    \n",
    "    coche_alvaro.arrancar()\n",
    "    moto_victor.moverse(300)\n",
    "    "
   ]
  },
  {
   "cell_type": "code",
   "execution_count": 57,
   "metadata": {},
   "outputs": [],
   "source": [
    "coche_alvaro = Coche('Opel', 'Corsa', 'azul', 5, 90000)\n",
    "coche_pablo=('Volkswagen', 'Polo', 'white', 5, 30000)"
   ]
  },
  {
   "cell_type": "code",
   "execution_count": 58,
   "metadata": {},
   "outputs": [
    {
     "name": "stdout",
     "output_type": "stream",
     "text": [
      "<class '__main__.Coche'>\n",
      "False\n"
     ]
    }
   ],
   "source": [
    "print(Coche)\n",
    "print(coche_alvaro.encendido)"
   ]
  },
  {
   "cell_type": "code",
   "execution_count": 59,
   "metadata": {},
   "outputs": [
    {
     "name": "stdout",
     "output_type": "stream",
     "text": [
      "coche encendido\n"
     ]
    }
   ],
   "source": [
    "coche_alvaro.arrancar()"
   ]
  },
  {
   "cell_type": "code",
   "execution_count": 60,
   "metadata": {},
   "outputs": [],
   "source": [
    "coche_alvaro_dict= {\n",
    "    \"num_ruedas\":4,\n",
    "    \"encendido\": False,\n",
    "    \"kms\": 90000\n",
    "}"
   ]
  },
  {
   "cell_type": "code",
   "execution_count": 61,
   "metadata": {},
   "outputs": [],
   "source": [
    "def arrancar_coche(coche):\n",
    "    coche['encendido'] = True"
   ]
  },
  {
   "cell_type": "code",
   "execution_count": 62,
   "metadata": {},
   "outputs": [],
   "source": [
    "def mover_coche(coche, kms):\n",
    "    if coche ['encendido']:\n",
    "        coche['kms'] += kms"
   ]
  },
  {
   "cell_type": "code",
   "execution_count": 63,
   "metadata": {},
   "outputs": [],
   "source": [
    "arrancar_coche(coche_alvaro_dict)"
   ]
  },
  {
   "cell_type": "code",
   "execution_count": 64,
   "metadata": {},
   "outputs": [
    {
     "name": "stdout",
     "output_type": "stream",
     "text": [
      "{'num_ruedas': 4, 'encendido': True, 'kms': 90000}\n"
     ]
    }
   ],
   "source": [
    "print(coche_alvaro_dict)"
   ]
  },
  {
   "cell_type": "code",
   "execution_count": 65,
   "metadata": {},
   "outputs": [
    {
     "name": "stdout",
     "output_type": "stream",
     "text": [
      "el coche se ha movido 300 kms\n",
      "kilometros totales 90300\n"
     ]
    },
    {
     "data": {
      "text/plain": [
       "300"
      ]
     },
     "execution_count": 65,
     "metadata": {},
     "output_type": "execute_result"
    }
   ],
   "source": [
    "coche_alvaro.moverse(300)"
   ]
  }
 ],
 "metadata": {
  "kernelspec": {
   "display_name": "Python 3",
   "language": "python",
   "name": "python3"
  },
  "language_info": {
   "codemirror_mode": {
    "name": "ipython",
    "version": 3
   },
   "file_extension": ".py",
   "mimetype": "text/x-python",
   "name": "python",
   "nbconvert_exporter": "python",
   "pygments_lexer": "ipython3",
   "version": "3.11.1"
  },
  "orig_nbformat": 4
 },
 "nbformat": 4,
 "nbformat_minor": 2
}

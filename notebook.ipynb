{
 "cells": [
  {
   "cell_type": "code",
   "execution_count": null,
   "metadata": {},
   "outputs": [],
   "source": [
    "2+2"
   ]
  },
  {
   "cell_type": "code",
   "execution_count": null,
   "metadata": {},
   "outputs": [],
   "source": [
    "#variables\n",
    "\n",
    "nombre = 'sharon'\n",
    "edad = 25\n",
    "peso = 50\n",
    "\n",
    "edad += 1\n",
    "\n",
    "nombre = 2000\n",
    "\n",
    "nombre= None\n",
    "\n",
    "apellido= \"nunez\"\n",
    "\n",
    "diccionario={}\n",
    "\n",
    "lista = []\n",
    "\n",
    "True\n",
    "\n",
    "False\n",
    "\n"
   ]
  },
  {
   "cell_type": "code",
   "execution_count": null,
   "metadata": {},
   "outputs": [],
   "source": [
    "#flujo ejecución\n",
    "\n",
    "#condicionales\n",
    "edad= 25\n",
    "if edad >= 18:\n",
    "    print(\"puedes comprar alcohol\")\n",
    "    alcohol= True\n",
    "elif edad>=16 and edad<18:\n",
    "    print(\"puedes comprar cerveza\")\n",
    "else:\n",
    "    print(\"no puedes\")\n",
    "\n"
   ]
  }
 ],
 "metadata": {
  "language_info": {
   "name": "python"
  },
  "orig_nbformat": 4
 },
 "nbformat": 4,
 "nbformat_minor": 2
}

{
 "cells": [
  {
   "cell_type": "code",
   "execution_count": null,
   "metadata": {},
   "outputs": [],
   "source": [
    "2+2"
   ]
  },
  {
   "cell_type": "code",
   "execution_count": null,
   "metadata": {},
   "outputs": [],
   "source": [
    "#variables\n",
    "\n",
    "nombre = 'sharon'\n",
    "edad = 25\n",
    "peso = 50\n",
    "\n",
    "edad += 1\n",
    "\n",
    "nombre = 2000\n",
    "\n",
    "nombre= None\n",
    "\n",
    "apellido= \"nunez\"\n",
    "\n",
    "diccionario={}\n",
    "\n",
    "lista = []\n",
    "\n",
    "True\n",
    "\n",
    "False\n",
    "\n"
   ]
  },
  {
   "cell_type": "code",
   "execution_count": 1,
   "metadata": {},
   "outputs": [
    {
     "name": "stdout",
     "output_type": "stream",
     "text": [
      "puedes comprar alcohol\n"
     ]
    }
   ],
   "source": [
    "#flujo ejecución\n",
    "\n",
    "#condicionales\n",
    "edad= 25\n",
    "if edad >= 18:\n",
    "    print(\"puedes comprar alcohol\")\n",
    "    alcohol= True\n",
    "elif edad>=16 and edad<18:\n",
    "    print(\"puedes comprar cerveza\")\n",
    "else:\n",
    "    print(\"no puedes\")\n",
    "\n"
   ]
  }
 ],
 "metadata": {
  "kernelspec": {
   "display_name": "Python 3",
   "language": "python",
   "name": "python3"
  },
  "language_info": {
   "codemirror_mode": {
    "name": "ipython",
    "version": 3
   },
   "file_extension": ".py",
   "mimetype": "text/x-python",
   "name": "python",
   "nbconvert_exporter": "python",
   "pygments_lexer": "ipython3",
   "version": "3.11.1"
  },
  "orig_nbformat": 4,
  "vscode": {
   "interpreter": {
    "hash": "a0229b3e97fe059263f215958cdbe10797f92aee618def8efb40264474bc2ec1"
   }
  }
 },
 "nbformat": 4,
 "nbformat_minor": 2
}
